{
 "cells": [
  {
   "cell_type": "markdown",
   "metadata": {},
   "source": [
    "### how to import functions from file in terminal interpreter\n",
    "in python terminal, use this to import the functions\n",
    "from a file named my_functions.py\n",
    "```\n",
    "from my_functions import *\n",
    "```\n",
    "or\n",
    "```\n",
    "import my_functions\n",
    "```\n",
    "then use the functions like this\n",
    "```\n",
    "my_functions.function_name()\n",
    "```\n",
    "or\n",
    "```\n",
    "function_name()\n",
    "```\n",
    "if you used the first import method"
   ]
  },
  {
   "cell_type": "code",
   "execution_count": 2,
   "metadata": {},
   "outputs": [],
   "source": [
    "import math as mf\n",
    "#from math import *"
   ]
  },
  {
   "cell_type": "markdown",
   "metadata": {},
   "source": [
    "### basics\n",
    "- int and floats\n",
    "- normal mathematical operations + - * / % ** //\n",
    "- boolean operators and, or, not\n",
    "- comparison operators == != > < >= <=\n",
    "- division always generate floats\n",
    "- python think float as generalized form of ints\n",
    "- to preserver the int form, use // for division and % for remainder, also % is also used for string formatting\n",
    "- exponentiation **, not ^\n",
    "- python use ** for exponentiation because ^ is used for bitwise XOR\n",
    "- python use // for integer division because / is used for float division\n"
   ]
  },
  {
   "cell_type": "markdown",
   "metadata": {},
   "source": [
    "### math functions\n",
    "- math module\n",
    "    -  import math as mf\n",
    "    -  import math\n",
    "    -  from math import *\n",
    "- math functions:-\n",
    ", math.sqrt()\n",
    ", math.ceil()\n",
    ", math.floor()\n",
    ", math.pow()\n",
    ", math.pi\n",
    ", math.e\n",
    ", math.inf\n",
    ", math.nan\n",
    ", math.log()\n",
    ", math.log10()\n",
    ", math.log2()\n",
    ", math.sin()\n",
    ", math.cos()\n",
    ", math.tan()\n",
    ", math.asin()\n",
    ", math.acos()\n",
    ", math.atan()\n",
    ", math.degrees()\n",
    ", math.radians()\n",
    ", math.hypot()\n",
    ", math.copysign()\n",
    ", math.factorial()\n",
    ", math.fabs()\n",
    ", math.fmod()\n",
    ", math.frexp()\n",
    ", math.fsum()\n",
    ", math.isfinite()\n",
    ", and much more........."
   ]
  },
  {
   "cell_type": "markdown",
   "metadata": {},
   "source": [
    "### variables\n",
    "- name\n",
    "    -   can contain letters, numbers, underscore\n",
    "    -   can't start with a number\n",
    "    -   can't use python keywords\n",
    "    -   case sensitive\n",
    "    -   doesn't have inherent type i.e. can be reassigned to any type as the program evolves\n",
    "    \n",
    "- value\n",
    "- type\n",
    "- assignment\n",
    "- reassignment\n",
    "- multiple assignment\n",
    "- simultaneous assignment\n",
    "- swapping variables\n",
    "- constants\n",
    "- naming conventions\n",
    "- type conversion\n",
    "- input function\n",
    "- input function always return a string\n",
    "- input function can take a string as argument to display a prompt"
   ]
  },
  {
   "cell_type": "code",
   "execution_count": 3,
   "metadata": {},
   "outputs": [
    {
     "name": "stdout",
     "output_type": "stream",
     "text": [
      "<class 'int'>\n",
      "10\n",
      "<class 'int'>\n",
      "20\n",
      "<class 'float'>\n",
      "<class 'float'>\n"
     ]
    }
   ],
   "source": [
    "i =10\n",
    "print(type(i))\n",
    "print(i)\n",
    "j = 20\n",
    "print(type(j))\n",
    "print(j)\n",
    "k = mf.sqrt(i**2 + j**2)\n",
    "print(type(k))\n",
    "i = j/i\n",
    "#not good style to assign values of mixed type to same name\n",
    "print(type(i))\n",
    "\n"
   ]
  },
  {
   "cell_type": "markdown",
   "metadata": {},
   "source": [
    "### boolean\n",
    "- boolean values - True, False\n",
    "- boolean operators - and, or, not\n",
    "- comparison operators - ==, !=, >, <, >=, <=\n",
    "- comparison operators can be used to compare strings\n",
    "- comparison operators can be chained\n",
    "    - 1 < 2 < 3\n",
    "    - 1 < 2 and 2 < 3\n",
    "- boolean operators have order of operations\n",
    "    - not\n",
    "    - and\n",
    "    - or\n",
    "- boolean operators can be used with non-boolean values\n",
    "    - falsy values - False, None, 0, 0.0, 0j, '', [], (), {}\n",
    "    - truthy values - everything else\n",
    "- short circuiting\n",
    "    - and - return first falsy value or last value if all are truthy\n",
    "    - or - return first truthy value or last value if all are falsy\n",
    "- ternary operator\n",
    "    - condition_if_true if condition else condition_if_false\n",
    "- is vs ==\n",
    "    - is - check if two variables point to the same object in memory\n",
    "    - == - check if two variables have the same value\n",
    "- is not vs !=\n",
    "    - is not - check if two variables do not point to the same object in memory\n",
    "    - != - check if two variables do not have the same value\n",
    "    "
   ]
  },
  {
   "cell_type": "code",
   "execution_count": 37,
   "metadata": {},
   "outputs": [],
   "source": [
    "def is_divifiable_by_3(x):\n",
    "    return x % 3 == 0\n",
    "def is_divisible(x,y):\n",
    "    if x % y == 0:\n",
    "        return True\n",
    "    else:\n",
    "        return False\n",
    "def even(x):\n",
    "    return is_divisible(x,2)\n",
    "def odd(x):\n",
    "    return not even(x)\n",
    "    #another way ,return not is_divisible(x,2)\n",
    "\n"
   ]
  }
 ],
 "metadata": {
  "kernelspec": {
   "display_name": "Python 3",
   "language": "python",
   "name": "python3"
  },
  "language_info": {
   "codemirror_mode": {
    "name": "ipython",
    "version": 3
   },
   "file_extension": ".py",
   "mimetype": "text/x-python",
   "name": "python",
   "nbconvert_exporter": "python",
   "pygments_lexer": "ipython3",
   "version": "3.11.6"
  }
 },
 "nbformat": 4,
 "nbformat_minor": 2
}
