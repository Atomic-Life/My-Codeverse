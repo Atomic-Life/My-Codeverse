{
 "cells": [
  {
   "cell_type": "markdown",
   "metadata": {},
   "source": [
    "### list\n",
    "- Sequence of values\n"
   ]
  },
  {
   "cell_type": "code",
   "execution_count": 2,
   "metadata": {},
   "outputs": [
    {
     "name": "stdout",
     "output_type": "stream",
     "text": [
      "[]\n",
      "[1, 2, 3, 4, 5, 6, 7, 8, 9, 10]\n",
      "['shaurya', 'yash', 'rudra', 'ritik', 'sarthak', 'sahil', 'sagar']\n"
     ]
    }
   ],
   "source": [
    "list =[]\n",
    "print(list)\n",
    "list= [1,2,3,4,5,6,7,8,9,10]\n",
    "print(list)\n",
    "list= [\"shaurya\",\"yash\",\"rudra\",\"ritik\",\"sarthak\",\"sahil\",\"sagar\"]\n",
    "print(list)"
   ]
  },
  {
   "cell_type": "markdown",
   "metadata": {},
   "source": [
    "- type not fixed\n",
    "    - can contain different types\n",
    "    - can contain other lists"
   ]
  },
  {
   "cell_type": "code",
   "execution_count": 3,
   "metadata": {},
   "outputs": [
    {
     "name": "stdout",
     "output_type": "stream",
     "text": [
      "[2, 2.2, '2']\n"
     ]
    }
   ],
   "source": [
    "list=[2,2.2,\"2\"]\n",
    "print(list)"
   ]
  },
  {
   "cell_type": "markdown",
   "metadata": {},
   "source": [
    "- supports indexing and slicing, like strings"
   ]
  },
  {
   "cell_type": "code",
   "execution_count": 4,
   "metadata": {},
   "outputs": [
    {
     "name": "stdout",
     "output_type": "stream",
     "text": [
      "[2, 3, 4, 2.2, '2']\n",
      "False\n",
      "2\n",
      "[2]\n"
     ]
    }
   ],
   "source": [
    "list=list[0:1]+[3,4]+list[1:]\n",
    "print(list)\n",
    "print(list[0]==list[0:1])\n",
    "print(list[0])\n",
    "print(list[0:1])"
   ]
  },
  {
   "cell_type": "markdown",
   "metadata": {},
   "source": [
    "- in the above line, the single value list[0] isnt a list but the value itself, whereas in string strin[0] is a string so\n",
    "    - s[0]==s[0:1] returns true\n",
    "    - whereas list[0]==list[0:1] returns false"
   ]
  },
  {
   "cell_type": "markdown",
   "metadata": {},
   "source": [
    "### Nested Lists\n"
   ]
  },
  {
   "cell_type": "code",
   "execution_count": 7,
   "metadata": {},
   "outputs": [
    {
     "name": "stdout",
     "output_type": "stream",
     "text": [
      "37\n",
      "['hello']\n",
      "hello\n",
      "e\n",
      "e\n",
      "e\n",
      "e\n",
      "e\n",
      "e\n",
      "e\n",
      "e\n",
      "[[2, [37]], 4, ['hello']]\n",
      "[[37]]\n"
     ]
    }
   ],
   "source": [
    "nested = [[2,[37]],4,[\"hello\"]]\n",
    "print(nested[0][1][0])\n",
    "print(nested[2])\n",
    "print(nested[2][0])\n",
    "print(nested[2][0][1])\n",
    "print(nested[2][0][1][0])\n",
    "print(nested[2][0][1][0][0])\n",
    "print(nested[2][0][1][0][0][0])\n",
    "print(nested[2][0][1][0][0][0][0])\n",
    "print(nested[2][0][1][0][0][0][0][0])\n",
    "print(nested[2][0][1][0][0][0][0][0][0])\n",
    "print(nested[2][0][1][0][0][0][0][0][0][0])\n",
    "print(nested)\n",
    "print(nested[0][1:2])"
   ]
  },
  {
   "cell_type": "code",
   "execution_count": 6,
   "metadata": {},
   "outputs": [
    {
     "name": "stdout",
     "output_type": "stream",
     "text": [
      "True\n",
      "True\n",
      "True\n",
      "False\n"
     ]
    }
   ],
   "source": [
    "s1=\"shaurya\"\n",
    "s2=\"shaurya\"\n",
    "s3=s1[0:3]+\"urya\"\n",
    "print(s1==s2)#matches content of object, does not check if they are same object\n",
    "print(s1 is s2)#checks if they are same object\n",
    "print(s1==s3)\n",
    "print(s1 is s3)"
   ]
  },
  {
   "cell_type": "markdown",
   "metadata": {},
   "source": [
    "- list is mutable\n",
    "- list can be updated in place\n",
    "    - list[0]=new_value\n",
    "    - list[1:3]=new_list\n",
    "    - list[1:3]=[]              # deletes elements\n",
    "    - list[1:1]=new_list        # inserts elements"
   ]
  },
  {
   "cell_type": "code",
   "execution_count": 19,
   "metadata": {},
   "outputs": [
    {
     "name": "stdout",
     "output_type": "stream",
     "text": [
      "[[1, 2, 3, 4, 5, 6, 7, 8, 9, 10], 4, ['hello']]\n",
      "[[1, 2, 3, 4, 6.66, 6, 7, 8, 9, 10], ['shaurya', 'yash', 'rudra', 'ritik', 'sarthak', 'sahil', 'sagar'], ['hello']]\n",
      "[6.999, ['shaurya', 'yash', 'rudra', 'ritik', 'sarthak', 'sahil', 'sagar'], ['hello']]\n"
     ]
    }
   ],
   "source": [
    "nested = [[2,[37]],4,[\"hello\"]]\n",
    "nested[0:1]=[[1,2,3,4,5,6,7,8,9,10]]\n",
    "print(nested)\n",
    "nested[1]=[\"shaurya\",\"yash\",\"rudra\",\"ritik\",\"sarthak\",\"sahil\",\"sagar\"]\n",
    "nested[0][4]=6.66\n",
    "print(nested)\n",
    "nested[0]=6.999\n",
    "print(nested)"
   ]
  }
 ],
 "metadata": {
  "kernelspec": {
   "display_name": "Python 3",
   "language": "python",
   "name": "python3"
  },
  "language_info": {
   "codemirror_mode": {
    "name": "ipython",
    "version": 3
   },
   "file_extension": ".py",
   "mimetype": "text/x-python",
   "name": "python",
   "nbconvert_exporter": "python",
   "pygments_lexer": "ipython3",
   "version": "3.11.6"
  }
 },
 "nbformat": 4,
 "nbformat_minor": 2
}
