{
 "cells": [
  {
   "cell_type": "markdown",
   "metadata": {},
   "source": [
    "### Python does two things\n",
    "-   digestion - reading and storing the code\n",
    "-   execution - running the code"
   ]
  },
  {
   "cell_type": "code",
   "execution_count": 1,
   "metadata": {},
   "outputs": [
    {
     "data": {
      "text/plain": [
       "11"
      ]
     },
     "execution_count": 1,
     "metadata": {},
     "output_type": "execute_result"
    }
   ],
   "source": [
    "def successor(x):\n",
    "    return x + 1\n",
    "#the above function is digested for further use\n",
    "successor(10)\n",
    "#the above line is being executed"
   ]
  },
  {
   "cell_type": "markdown",
   "metadata": {},
   "source": [
    "### Conditional execution\n",
    "-   if statement\n",
    "-   else statement\n",
    "-   elif statement\n",
    "-   switch statement"
   ]
  },
  {
   "cell_type": "code",
   "execution_count": 2,
   "metadata": {},
   "outputs": [
    {
     "name": "stdout",
     "output_type": "stream",
     "text": [
      "successor function works\n"
     ]
    }
   ],
   "source": [
    "m=1\n",
    "n=successor(m)\n",
    "if n == m + 1:\n",
    "    print('successor function works')\n",
    "else:\n",
    "    print('successor function does not work')"
   ]
  },
  {
   "cell_type": "markdown",
   "metadata": {},
   "source": [
    "### data types when used as conditions\n",
    "-   False - False, None, 0, 0.0, 0j, '', [], (), {}, set()\n",
    "-   True - everything else\n",
    "### multiway branching\n",
    "-   can go deep if-else\n",
    "-   can use elif to make it more readable\n",
    "-   can use switch statement\n",
    "-   can use dictionary to simulate switch statement"
   ]
  },
  {
   "cell_type": "code",
   "execution_count": 5,
   "metadata": {},
   "outputs": [
    {
     "name": "stdout",
     "output_type": "stream",
     "text": [
      "m is 3\n",
      "m is neither 1, 2, nor 3\n"
     ]
    }
   ],
   "source": [
    "m=3;\n",
    "if m == 1:\n",
    "    print('m is 1')\n",
    "else:\n",
    "    if m == 2:\n",
    "        print('m is 2')\n",
    "    else:\n",
    "        if m == 3:\n",
    "            print('m is 3')\n",
    "        else:\n",
    "            print('m is neither 1, 2, nor 3')\n",
    "\n",
    "#the same code can be written in a more efficient way\n",
    "m=successor(m)\n",
    "if m == 1:\n",
    "    print('m is 1')\n",
    "elif m == 2:\n",
    "    print('m is 2')\n",
    "elif m == 3:\n",
    "    print('m is 3')\n",
    "else:\n",
    "    print('m is neither 1, 2, nor 3')\n"
   ]
  },
  {
   "cell_type": "markdown",
   "metadata": {},
   "source": [
    "### Looping\n",
    "-   while loop\n",
    "-   for loop\n",
    "-   break statement\n",
    "-   continue statement\n",
    "-   pass statement\n",
    "-   else statement with loop\n",
    "-   nested loop\n",
    "-   loop with range\n",
    "-   loop with enumerate\n",
    "-   loop with zip\n",
    "-   loop with reversed\n",
    "-   loop with sorted\n",
    "-   loop with set\n",
    "-   loop with dictionary\n",
    "<br>and more and more and more\n"
   ]
  },
  {
   "cell_type": "code",
   "execution_count": 8,
   "metadata": {},
   "outputs": [
    {
     "name": "stdout",
     "output_type": "stream",
     "text": [
      "1\n",
      "2\n",
      "3\n",
      "1\n",
      "2\n",
      "3\n",
      "we will learn more about range() later\n"
     ]
    }
   ],
   "source": [
    "for i in [1, 2, 3]:\n",
    "    print(i)\n",
    "for i in range(1, 4):\n",
    "    print(i)\n",
    "print('we will learn more about range() later')\n"
   ]
  },
  {
   "cell_type": "code",
   "execution_count": 11,
   "metadata": {},
   "outputs": [
    {
     "name": "stdout",
     "output_type": "stream",
     "text": [
      "[1, 2, 5, 10]\n",
      "1\n",
      "2\n",
      "5\n",
      "10\n"
     ]
    }
   ],
   "source": [
    "def print_factors(x):\n",
    "    for i in range(1, x + 1):\n",
    "        if x % i == 0:\n",
    "            print(i)\n",
    "def find_factors(x):\n",
    "    l=[]\n",
    "    for i in range(1, x + 1):\n",
    "        if x % i == 0:\n",
    "            l.append(i)\n",
    "            #l=l+[i]\n",
    "    return l\n",
    "\n",
    "print(find_factors(10))\n",
    "print_factors(10)"
   ]
  },
  {
   "cell_type": "markdown",
   "metadata": {},
   "source": [
    "### loop based on condition"
   ]
  },
  {
   "cell_type": "code",
   "execution_count": 12,
   "metadata": {},
   "outputs": [
    {
     "name": "stdout",
     "output_type": "stream",
     "text": [
      "5\n"
     ]
    }
   ],
   "source": [
    "def gcd_euclidean(a, b):\n",
    "    if a < b:\n",
    "        a, b = b, a\n",
    "    while b != 0:\n",
    "        a, b = b, a % b\n",
    "    return a\n",
    "print(gcd_euclidean(10, 25))"
   ]
  }
 ],
 "metadata": {
  "kernelspec": {
   "display_name": "Python 3",
   "language": "python",
   "name": "python3"
  },
  "language_info": {
   "codemirror_mode": {
    "name": "ipython",
    "version": 3
   },
   "file_extension": ".py",
   "mimetype": "text/x-python",
   "name": "python",
   "nbconvert_exporter": "python",
   "pygments_lexer": "ipython3",
   "version": "3.11.6"
  }
 },
 "nbformat": 4,
 "nbformat_minor": 2
}
