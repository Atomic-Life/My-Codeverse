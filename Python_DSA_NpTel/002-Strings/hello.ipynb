{
 "cells": [
  {
   "cell_type": "markdown",
   "metadata": {},
   "source": [
    "### Strings\n",
    "- its just not about numbers, strings pose most of python computation\n",
    "- strings are immutable, they cannot be changed\n",
    "- most of internet is around stringp processing,string matching etc\n",
    "- includes importing/exporting spreadsheets\n",
    "- also there is nothing like char in python, everything is string\n",
    "- enclose in single or double quotes or even triple quotes\n",
    "- double quotes are used when single quote is part of string............. but it can be escaped using backslash\n",
    "- triple quotes are used for when double and single quote both are part of string\n",
    "- strings are objects, they have methods\n",
    "\n"
   ]
  },
  {
   "cell_type": "code",
   "execution_count": 5,
   "metadata": {},
   "outputs": [
    {
     "name": "stdout",
     "output_type": "stream",
     "text": [
      "gorakhpur\n",
      "The capital of Assam is Gorakhpur.\n",
      "he said he will die for 'god'\n",
      "he said he will die for '\"god' and'allah'\"\n",
      "gor\n",
      "rakhp\n"
     ]
    }
   ],
   "source": [
    "city = 'gorakhpur'\n",
    "print(city)\n",
    "statement = 'The capital of Assam is ' + city.title() + '.'\n",
    "statement2 = \"he said he will die for 'god'\"\n",
    "print(statement)\n",
    "print(statement2)\n",
    "statement3 = '''he said he will die for '\"god' and'allah'\"'''\n",
    "print(statement3)\n",
    "print(city[0:3])\n",
    "print(city[-7:-2])"
   ]
  },
  {
   "cell_type": "markdown",
   "metadata": {},
   "source": [
    "### str\n",
    "- str() is a function that converts any object to string\n",
    "- len() is a function that returns length of string\n",
    "- str.upper() is a method that converts string to upper case\n",
    "- str.lower() is a method that converts string to lower case\n",
    "- str.title() is a method that converts string to title case\n",
    "- str.capitalize() is a method that converts string to capitalize case\n",
    "- str.swapcase() is a method that converts string to swap case\n",
    "- str.strip() is a method that removes leading and trailing spaces\n",
    "- str.lstrip() is a method that removes leading spaces\n",
    "- str.rstrip() is a method that removes trailing spaces\n",
    "- str.replace() is a method that replaces a string with another string\n",
    "- str.split() is a method that splits a string into list of strings\n",
    "### modifying string\n",
    "- strings are immutable, they cannot be changed, cant changed 'in place'"
   ]
  },
  {
   "cell_type": "code",
   "execution_count": 1,
   "metadata": {},
   "outputs": [
    {
     "name": "stdout",
     "output_type": "stream",
     "text": [
      "help!\n",
      "True\n"
     ]
    }
   ],
   "source": [
    "s='hello'\n",
    "t=s[0:3]+'p!'\n",
    "#s[3]=\"p\", not allowed\n",
    "print(t)\n",
    "print(s[0]==s[0:1]==\"h\") #we will also see, this isnt the case in lists(next chapter)"
   ]
  },
  {
   "cell_type": "markdown",
   "metadata": {},
   "source": [
    "## all string functions helpful\n",
    "- https://www.w3schools.com/python/python_ref_string.asp\n",
    "### string formatting\n",
    "- str.format() is a method that formats string\n",
    "- str.format_map() is a method that formats string\n",
    "- str.join() is a method that joins strings\n",
    "- str.center() is a method that centers string\n",
    "- str.ljust() is a method that left justifies string\n",
    "- str.rjust() is a method that right justifies string\n",
    "- str.zfill() is a method that pads string on left with zeros\n",
    "- str.count() is a method that counts occurences of substring\n",
    "- str.find() is a method that finds substring\n",
    "- str.rfind() is a method that finds substring from right\n",
    "- str.index() is a method that finds substring\n",
    "- str.rindex() is a method that finds substring from right\n",
    "- str.startswith() is a method that checks if string starts with substring\n",
    "- str.endswith() is a method that checks if string ends with substring\n",
    "- str.isalnum() is a method that checks if string is alphanumeric\n",
    "- str.isalpha() is a method that checks if string is alphabetic\n",
    "- str.isdecimal() is a method that checks if string is decimal\n",
    "- str.isdigit() is a method that checks if string is digit\n",
    "- str.isnumeric() is a method that checks if string is numeric\n",
    "- str.islower() is a method that checks if string is lower case\n",
    "- str.isupper() is a method that checks if string is upper case\n",
    "- str.isspace() is a method that checks if string is space\n",
    "- str.istitle() is a method that checks if string is title case\n",
    "- str.isidentifier() is a method that checks if string is identifier\n",
    "- str.isprintable() is a method that checks if string is printable\n",
    "\n",
    "### string slicing\n",
    "- string slicing is a way to extract substring from string\n",
    "- string slicing is done using square brackets\n",
    "- string slicing is done using start,stop and step\n",
    "- string slicing is done using negative index\n",
    "\n",
    "### string search/find/replace functions\n",
    "- str.find() is a method that finds substring\n",
    "- str.rfind() is a method that finds substring from right\n",
    "- str.index() is a method that finds substring\n",
    "- str.rindex() is a method that finds substring from right\n",
    "- str.startswith() is a method that checks if string starts with substring\n",
    "- str.endswith() is a method that checks if string ends with substring\n",
    "- str.replace() is a method that replaces a string with another string\n",
    "- str.count() is a method that counts occurences of substring\n",
    "\n",
    "### string case functions\n",
    "- str.upper() is a method that converts string to upper case\n",
    "- str.lower() is a method that converts string to lower case\n",
    "- str.title() is a method that converts string to title case\n",
    "- str.capitalize() is a method that converts string to capitalize case\n",
    "- str.swapcase() is a method that converts string to swap case\n"
   ]
  }
 ],
 "metadata": {
  "kernelspec": {
   "display_name": "Python 3",
   "language": "python",
   "name": "python3"
  },
  "language_info": {
   "codemirror_mode": {
    "name": "ipython",
    "version": 3
   },
   "file_extension": ".py",
   "mimetype": "text/x-python",
   "name": "python",
   "nbconvert_exporter": "python",
   "pygments_lexer": "ipython3",
   "version": "3.11.6"
  }
 },
 "nbformat": 4,
 "nbformat_minor": 2
}
