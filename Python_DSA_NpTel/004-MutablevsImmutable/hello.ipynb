{
 "cells": [
  {
   "cell_type": "markdown",
   "metadata": {},
   "source": [
    "- mutable vs immutable"
   ]
  },
  {
   "cell_type": "code",
   "execution_count": 3,
   "metadata": {},
   "outputs": [
    {
     "name": "stdout",
     "output_type": "stream",
     "text": [
      "5\n"
     ]
    }
   ],
   "source": [
    "#has the value of Y changed?\n",
    "x=5\n",
    "y=x\n",
    "x=3\n",
    "print(y)\n",
    "#no, the value of Y has not changed. It is still 5."
   ]
  },
  {
   "cell_type": "markdown",
   "metadata": {},
   "source": [
    "-  what we saw above is called deep copy, which means that Y is a new object and not a reference to the old object.\n",
    "### types  of copy\n",
    "- shallow copy\n",
    "- deep copy\n",
    "    - copy.copy()\n",
    "    - copy.deepcopy()\n",
    "    - copy() method is used to make a shallow copy of the list. It returns a new list object that is a shallow copy of the original list.\n",
    "    - deepcopy() method is used to make a deep copy of the list. It returns a new list object that is a deep copy of the original list.\n",
    "    - shallow copy is a bit faster than deep copy\n",
    "- shallow copy\n",
    "    - A shallow copy of a list is a new list that contains references to the original list’s elements. \n",
    "    - The new list is a separate object from the original list. \n",
    "    - However, the elements themselves are not copied. \n",
    "    - If you modify an element in the new list, the corresponding element in the original list is also modified. \n",
    "    - This is because the new list contains references to the original list’s elements.\n",
    "- deep copy\n",
    "    - A deep copy of a list is a new list that contains new objects. \n",
    "    - The new list is a separate object from the original list. \n",
    "    - The elements themselves are also new objects. \n",
    "    - If you modify an element in the new list, the corresponding element in the original list is not modified. \n",
    "    - This is because the new list contains new objects.\n",
    "- mutable vs immutable\n",
    "    - mutable objects can be changed after they are created, and immutable objects cannot be changed after they are created.\n",
    "    - mutable objects: list, dictionary, set, byte array\n",
    "    - immutable objects: int, float, complex, string, tuple, bool\n",
    "    - mutable objects are a bit slower than immutable objects\n",
    "    - mutable objects are a bit larger\n",
    "    - mutable objects are a bit more memory efficient\n",
    "### Does assignment copy the value or make both names point to the same value?\n",
    "    - Assignment never copies the value. \n",
    "    - It just makes the variable name point to the value. \n",
    "    - If the value is mutable, changing the value using one variable will change the value using the other variable. \n",
    "    - If the value is immutable, changing the value using one variable will not change the value using the other variable.\n",
    "- For immutable values, we can assume that assignment makes a fresh copy of a value\n",
    "- int, float, complex, string, tuple, bool are immutable\n",
    "- For mutable values, we can assume that assignment does not make a fresh copy of a value\n",
    "- list, dictionary, set, byte array are mutable\n",
    "### What happens when you pass a list to a function?\n",
    "    - When you pass a list to a function, you are passing a reference to the list. \n",
    "    - This means that the function can modify the list. \n",
    "    - If you don’t want the function to modify the list, you can make a copy of the list before passing it to the function."
   ]
  },
  {
   "cell_type": "code",
   "execution_count": 4,
   "metadata": {},
   "outputs": [
    {
     "name": "stdout",
     "output_type": "stream",
     "text": [
      "[1, 2, 9, 4, 5]\n"
     ]
    }
   ],
   "source": [
    "list=[1,2,3,4,5]\n",
    "list2=list\n",
    "list[2]=9\n",
    "print(list2)"
   ]
  },
  {
   "cell_type": "markdown",
   "metadata": {},
   "source": [
    "- then how do we deep copy mutables\n",
    "    - copy.deepcopy()\n",
    "- for list, there are several ways to do that\n",
    "    - a slice creates a (sub)list that is a different list, but the mutable elements are the same\n",
    "    - list() creates a new list with the same elements\n",
    "    - copy() creates a new list with the same elements\n",
    "    - deepcopy() creates a new list with new elements\n",
    "    - list[:] creates a new list with the same elements\n"
   ]
  },
  {
   "cell_type": "code",
   "execution_count": 13,
   "metadata": {},
   "outputs": [
    {
     "name": "stdout",
     "output_type": "stream",
     "text": [
      "[10, 2, [9, 4, 5], 4, 5]\n",
      "[1, 2, [9, 4, 5], 4, 5]\n"
     ]
    }
   ],
   "source": [
    "list=[1,2,[3,4,5],4,5]\n",
    "list2=list[:]\n",
    "list[2][0]=9\n",
    "list[0]=10\n",
    "print(list)\n",
    "print(list2)\n"
   ]
  },
  {
   "cell_type": "code",
   "execution_count": 14,
   "metadata": {},
   "outputs": [
    {
     "name": "stdout",
     "output_type": "stream",
     "text": [
      "True\n",
      "False\n",
      "True\n",
      "True\n"
     ]
    }
   ],
   "source": [
    "list1 = [1,3,5,7]\n",
    "list2 = [1,3,5,7]\n",
    "list3 = list2\n",
    "print(list1 == list2)\n",
    "print(list1 is list2)\n",
    "print(list3 == list2)\n",
    "print(list3 is list2)\n"
   ]
  },
  {
   "cell_type": "markdown",
   "metadata": {},
   "source": [
    "Concatenation\n",
    "- Like strings, lists can be glued together using +\n",
    "    - list1 = [1,3,5,7]\n",
    "    - listz = [4,5,6,8]\n",
    "    - list3 = list1 + list2\n",
    "- list3 is now [1, 3,5,7,4,5,6, 8]\n",
    "- Note that + always produces a new list which is a deep copy of the original lists\n",
    "    - List1 = [1,3,5,7]\n",
    "    - list2 = list1\n",
    "    - list1 = list1 + [9]"
   ]
  },
  {
   "cell_type": "code",
   "execution_count": 16,
   "metadata": {},
   "outputs": [
    {
     "name": "stdout",
     "output_type": "stream",
     "text": [
      "[1, 2, 3, 4, 5, 1, 2, 3, 4, [1, 2], 9]\n",
      "[1, 2, 3, 4, 5, 1, 2, 3, 4, [69, 2], 9]\n"
     ]
    }
   ],
   "source": [
    "list=[1,2,3,4,5]\n",
    "list2=[1,2,3,4,[1,2]]\n",
    "list3=list+list2+[9]\n",
    "print(list3)\n",
    "list2[4][0]=69\n",
    "print(list3)\n"
   ]
  }
 ],
 "metadata": {
  "kernelspec": {
   "display_name": "Python 3",
   "language": "python",
   "name": "python3"
  },
  "language_info": {
   "codemirror_mode": {
    "name": "ipython",
    "version": 3
   },
   "file_extension": ".py",
   "mimetype": "text/x-python",
   "name": "python",
   "nbconvert_exporter": "python",
   "pygments_lexer": "ipython3",
   "version": "3.11.6"
  }
 },
 "nbformat": 4,
 "nbformat_minor": 2
}
